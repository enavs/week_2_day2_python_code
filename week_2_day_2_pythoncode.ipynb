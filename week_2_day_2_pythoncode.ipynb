{
 "cells": [
  {
   "cell_type": "markdown",
   "metadata": {},
   "source": [
    "# Exercises"
   ]
  },
  {
   "cell_type": "markdown",
   "metadata": {},
   "source": [
    "### 1) Build a Shopping Cart <br>\n",
    "<p><b>Should have the following capabilities:</b><br><br>\n",
    "1) Takes in input <br>\n",
    "2) Stores user input into a list <br>\n",
    "3) User can add or delete items <br>\n",
    "4) User can see current shopping list <br>\n",
    "5) Loops until user 'quits' <br>\n",
    "6) Upon quiting the program, print out all items in the user's list <br>\n",
    "</p>"
   ]
  },
  {
   "cell_type": "code",
   "execution_count": null,
   "metadata": {},
   "outputs": [
    {
     "name": "stdout",
     "output_type": "stream",
     "text": [
      "Hello, please input your grocery items into this list.\n",
      "You can add as many items as you want and delete any item as well.\n",
      "Type 'quit' to exit. Type 'add' to add an item. Type 'delete' to delete an item. Type 'show' to view current list.add\n",
      "Type 'quit' to exit. Enter item to addbananas\n",
      "Hello, please input your grocery items into this list.\n",
      "You can add as many items as you want and delete any item as well.\n",
      "Type 'quit' to exit. Type 'add' to add an item. Type 'delete' to delete an item. Type 'show' to view current list.add\n",
      "Type 'quit' to exit. Enter item to addapples\n",
      "Hello, please input your grocery items into this list.\n",
      "You can add as many items as you want and delete any item as well.\n",
      "Type 'quit' to exit. Type 'add' to add an item. Type 'delete' to delete an item. Type 'show' to view current list.add\n"
     ]
    }
   ],
   "source": [
    "%run ./my_module/__init__.ipy\n",
    "\n",
    "shopping_cart()"
   ]
  },
  {
   "cell_type": "markdown",
   "metadata": {},
   "source": [
    "### 2) Create a Module in Visual Studio Code and Import It <br>\n",
    "<p><b>Module should have the following capabilities:</b><br><br>\n",
    "1) Has a function to calculate the square footage of a room <br>\n",
    "2) Has a function to calculate the circumference of a circle <br><br>\n",
    "<b>Program in Jupyter Notebook should take in user input and use imported functions to calculate a circle's circumference or a houses square footage</b>\n",
    "</p>"
   ]
  },
  {
   "cell_type": "markdown",
   "metadata": {},
   "source": [
    "##### **Note: When using functions in Python, arguments are passed in by reference, NOT value."
   ]
  },
  {
   "cell_type": "code",
   "execution_count": 6,
   "metadata": {},
   "outputs": [
    {
     "name": "stdout",
     "output_type": "stream",
     "text": [
      "Do you know the diamater of the circle?\n",
      "Please type 'y' or 'n'.n\n",
      "What is the radius of a circle?23\n",
      "144.51326206513048\n"
     ]
    }
   ],
   "source": [
    "%run ./my_module/__init__.ipy\n",
    "\n",
    "circle_cirum()"
   ]
  },
  {
   "cell_type": "code",
   "execution_count": null,
   "metadata": {},
   "outputs": [],
   "source": []
  }
 ],
 "metadata": {
  "kernelspec": {
   "display_name": "Python 3",
   "language": "python",
   "name": "python3"
  },
  "language_info": {
   "codemirror_mode": {
    "name": "ipython",
    "version": 3
   },
   "file_extension": ".py",
   "mimetype": "text/x-python",
   "name": "python",
   "nbconvert_exporter": "python",
   "pygments_lexer": "ipython3",
   "version": "3.8.5"
  }
 },
 "nbformat": 4,
 "nbformat_minor": 2
}
